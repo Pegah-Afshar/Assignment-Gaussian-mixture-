{
 "cells": [
  {
   "cell_type": "code",
   "execution_count": 93,
   "metadata": {},
   "outputs": [],
   "source": [
    "import numpy as np\n",
    "import pandas as pd\n",
    "import scipy\n",
    "import matplotlib.pyplot as plt\n",
    "import seaborn as sns\n",
    "from sqlalchemy import create_engine\n",
    "import warnings\n",
    "from sklearn.cluster import KMeans\n",
    "from sklearn.preprocessing import StandardScaler\n",
    "from sklearn.decomposition import PCA\n",
    "from sklearn import datasets\n",
    "from sklearn import metrics"
   ]
  },
  {
   "cell_type": "code",
   "execution_count": 94,
   "metadata": {},
   "outputs": [],
   "source": [
    "postgres_user = 'dsbc_student'\n",
    "postgres_pw = '7*.8G9QH21'\n",
    "postgres_host = '142.93.121.174'\n",
    "postgres_port = '5432'\n",
    "postgres_db = 'heartdisease'\n",
    "engine = create_engine('postgresql://{}:{}@{}:{}/{}'.format(\n",
    "postgres_user, postgres_pw, postgres_host, postgres_port, postgres_db))\n",
    "\n",
    "df = pd.read_sql_query('select * from heartdisease',con=engine)\n",
    "\n",
    "# No need for an open connection, \n",
    "# because you're only doing a single query\n",
    "engine.dispose()"
   ]
  },
  {
   "cell_type": "markdown",
   "metadata": {},
   "source": [
    "1. Apply GMM to the heart disease dataset by setting n_components=2. Get ARI and silhouette scores for your solution and compare it with those of the k-means and hierarchical clustering solutions that you implemented in the previous checkpoint assignments. Which algorithm performs best?"
   ]
  },
  {
   "cell_type": "code",
   "execution_count": 95,
   "metadata": {},
   "outputs": [],
   "source": [
    "# Define the features and the outcome\n",
    "X = df.iloc[:, :13]\n",
    "y = df.iloc[:, 13]\n",
    "\n",
    "# Replace missing values (marked by `?`) with a `0`\n",
    "X = X.replace(to_replace='?', value=0)\n",
    "\n",
    "# Binarize y so that `1` means heart disease diagnosis and `0` means no diagnosis\n",
    "y = np.where(y > 0, 1, 0)"
   ]
  },
  {
   "cell_type": "code",
   "execution_count": 120,
   "metadata": {},
   "outputs": [],
   "source": [
    "scaler=StandardScaler()\n",
    "X_std=scaler.fit_transform(X)"
   ]
  },
  {
   "cell_type": "code",
   "execution_count": 121,
   "metadata": {},
   "outputs": [],
   "source": [
    "from sklearn.mixture import GaussianMixture\n",
    "gmm=GaussianMixture(n_components=2,random_state=12)\n",
    "clusters=gmm.fit_predict(X_std)"
   ]
  },
  {
   "cell_type": "code",
   "execution_count": 122,
   "metadata": {},
   "outputs": [
    {
     "name": "stdout",
     "output_type": "stream",
     "text": [
      "ARI Of GMM solution: 0.4207322145049338\n",
      "Silhouette score of GMM solution: 0.16118591340148433\n"
     ]
    }
   ],
   "source": [
    "print('ARI Of GMM solution: {}'.format(metrics.adjusted_rand_score(y,clusters)))\n",
    "print('Silhouette score of GMM solution: {}'.format(metrics.silhouette_score(X_std,clusters,metric='euclidean')))"
   ]
  },
  {
   "cell_type": "code",
   "execution_count": 123,
   "metadata": {},
   "outputs": [
    {
     "name": "stdout",
     "output_type": "stream",
     "text": [
      "ARI Of GMM solution: 0.4380857727169879\n",
      "Silhouette score of GMM solution: 0.17530682286260937\n"
     ]
    }
   ],
   "source": [
    "\n",
    "knn=KMeans(n_clusters=2,random_state=12)\n",
    "cluster=knn.fit_predict(X_std)\n",
    "print('ARI Of GMM solution: {}'.format(metrics.adjusted_rand_score(y,cluster)))\n",
    "print('Silhouette score of GMM solution: {}'.format(metrics.silhouette_score(X_std,cluster,metric='euclidean')))"
   ]
  },
  {
   "cell_type": "code",
   "execution_count": 124,
   "metadata": {},
   "outputs": [
    {
     "name": "stdout",
     "output_type": "stream",
     "text": [
      "ARI Of GMM solution: 0.4207322145049338\n",
      "Silhouette score of GMM solution: 0.16118591340148433\n"
     ]
    }
   ],
   "source": [
    "\n",
    "from sklearn.cluster import AgglomerativeClustering\n",
    "agg_cluster=AgglomerativeClustering(linkage='complete',affinity='cosine',n_clusters=2)\n",
    "cluster=agg_cluster.fit_predict(X_std)\n",
    "print('ARI Of GMM solution: {}'.format(metrics.adjusted_rand_score(y,clusters)))\n",
    "print('Silhouette score of GMM solution: {}'.format(metrics.silhouette_score(X_std,clusters,metric='euclidean')))"
   ]
  },
  {
   "cell_type": "markdown",
   "metadata": {},
   "source": [
    " Kmeans performs best in terms of ARI and silhouette scores. GMM and hierarchical clustering perform similarly."
   ]
  },
  {
   "cell_type": "markdown",
   "metadata": {},
   "source": [
    "2. GMM implementation of scikit-learn has a parameter called covariance_type. There are four types that you can specify. Which one performs best in terms of ARI and silhouette scores?"
   ]
  },
  {
   "cell_type": "code",
   "execution_count": 125,
   "metadata": {},
   "outputs": [
    {
     "name": "stdout",
     "output_type": "stream",
     "text": [
      "ARI Of GMM solution: 0.4207322145049338\n",
      "Silhouette score of GMM solution: 0.16118591340148433\n"
     ]
    }
   ],
   "source": [
    "gmm=GaussianMixture(n_components=2,random_state=12,covariance_type='full')\n",
    "clusters=gmm.fit_predict(X_std)\n",
    "print('ARI Of GMM solution: {}'.format(metrics.adjusted_rand_score(y,clusters)))\n",
    "print('Silhouette score of GMM solution: {}'.format(metrics.silhouette_score(X_std,clusters,metric='euclidean')))"
   ]
  },
  {
   "cell_type": "code",
   "execution_count": 126,
   "metadata": {},
   "outputs": [
    {
     "name": "stdout",
     "output_type": "stream",
     "text": [
      "ARI Of GMM solution: 0.4558104186161976\n",
      "Silhouette score of GMM solution: 0.1671559472293439\n"
     ]
    }
   ],
   "source": [
    "gmm=GaussianMixture(n_components=2,random_state=12,covariance_type='tied')\n",
    "clusters=gmm.fit_predict(X_std)\n",
    "print('ARI Of GMM solution: {}'.format(metrics.adjusted_rand_score(y,clusters)))\n",
    "print('Silhouette score of GMM solution: {}'.format(metrics.silhouette_score(X_std,clusters,metric='euclidean')))"
   ]
  },
  {
   "cell_type": "code",
   "execution_count": 127,
   "metadata": {},
   "outputs": [
    {
     "name": "stdout",
     "output_type": "stream",
     "text": [
      "ARI Of GMM solution: 0.37878842718089933\n",
      "Silhouette score of GMM solution: 0.15836933745078682\n"
     ]
    }
   ],
   "source": [
    "gmm=GaussianMixture(n_components=2,random_state=12,covariance_type='diag')\n",
    "clusters=gmm.fit_predict(X_std)\n",
    "print('ARI Of GMM solution: {}'.format(metrics.adjusted_rand_score(y,clusters)))\n",
    "print('Silhouette score of GMM solution: {}'.format(metrics.silhouette_score(X_std,clusters,metric='euclidean')))"
   ]
  },
  {
   "cell_type": "code",
   "execution_count": 128,
   "metadata": {},
   "outputs": [
    {
     "name": "stdout",
     "output_type": "stream",
     "text": [
      "ARI Of GMM solution: 0.20765243525722465\n",
      "Silhouette score of GMM solution: 0.12468753110276873\n"
     ]
    }
   ],
   "source": [
    "gmm=GaussianMixture(n_components=2,random_state=12,covariance_type='spherical')\n",
    "clusters=gmm.fit_predict(X_std)\n",
    "print('ARI Of GMM solution: {}'.format(metrics.adjusted_rand_score(y,clusters)))\n",
    "print('Silhouette score of GMM solution: {}'.format(metrics.silhouette_score(X_std,clusters,metric='euclidean')))"
   ]
  },
  {
   "cell_type": "markdown",
   "metadata": {},
   "source": [
    "covariance_type 'tied' performs best in terms of ARI and silhouette scores. 'spherical' is the worst."
   ]
  },
  {
   "cell_type": "code",
   "execution_count": null,
   "metadata": {},
   "outputs": [],
   "source": []
  },
  {
   "cell_type": "code",
   "execution_count": null,
   "metadata": {},
   "outputs": [],
   "source": []
  },
  {
   "cell_type": "code",
   "execution_count": null,
   "metadata": {},
   "outputs": [],
   "source": []
  }
 ],
 "metadata": {
  "kernelspec": {
   "display_name": "Python 3",
   "language": "python",
   "name": "python3"
  },
  "language_info": {
   "codemirror_mode": {
    "name": "ipython",
    "version": 3
   },
   "file_extension": ".py",
   "mimetype": "text/x-python",
   "name": "python",
   "nbconvert_exporter": "python",
   "pygments_lexer": "ipython3",
   "version": "3.7.4"
  }
 },
 "nbformat": 4,
 "nbformat_minor": 2
}
